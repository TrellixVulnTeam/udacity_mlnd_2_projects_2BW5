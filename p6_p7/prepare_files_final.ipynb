{
 "cells": [
  {
   "cell_type": "code",
   "execution_count": 1,
   "metadata": {},
   "outputs": [
    {
     "name": "stderr",
     "output_type": "stream",
     "text": [
      "/home/ubuntu/anaconda3/envs/tensorflow_p36/lib/python3.6/site-packages/h5py/__init__.py:36: FutureWarning: Conversion of the second argument of issubdtype from `float` to `np.floating` is deprecated. In future, it will be treated as `np.float64 == np.dtype(float).type`.\n",
      "  from ._conv import register_converters as _register_converters\n",
      "Using TensorFlow backend.\n",
      "/home/ubuntu/anaconda3/envs/tensorflow_p36/lib/python3.6/site-packages/matplotlib/__init__.py:1067: UserWarning: Duplicate key in file \"/home/ubuntu/.config/matplotlib/matplotlibrc\", line #2\n",
      "  (fname, cnt))\n",
      "/home/ubuntu/anaconda3/envs/tensorflow_p36/lib/python3.6/site-packages/matplotlib/__init__.py:1067: UserWarning: Duplicate key in file \"/home/ubuntu/.config/matplotlib/matplotlibrc\", line #3\n",
      "  (fname, cnt))\n"
     ]
    }
   ],
   "source": [
    "import helper"
   ]
  },
  {
   "cell_type": "code",
   "execution_count": 2,
   "metadata": {},
   "outputs": [],
   "source": [
    "data_path = './data' \n",
    "train_save_path = './data/train.zip'\n",
    "test_save_path =  './data/test.zip'\n",
    "train_extracted_path = './data/train'\n",
    "test_extracted_path = './data/test'\n",
    "train_final_path1 = './data/train1'\n",
    "train_final_path2 = './data/train2'\n",
    "test_final_path1 ='./data/test1/test1'\n",
    "classes=['dog', 'cat']"
   ]
  },
  {
   "cell_type": "code",
   "execution_count": 3,
   "metadata": {},
   "outputs": [
    {
     "name": "stdout",
     "output_type": "stream",
     "text": [
      "Extracting ./data/train.zip...\n",
      "Finished extraction\n",
      "Moving images to sub folders.\n",
      "Finish moving files to sub folders\n"
     ]
    }
   ],
   "source": [
    "#将训练集文件移到两个子目录下, 作为不去除异常值的训练集数据\n",
    "helper.extract_file(train_save_path, data_path, train_extracted_path)\n",
    "helper.move_files_into_sub_classes(train_extracted_path, train_final_path1, classes)"
   ]
  },
  {
   "cell_type": "code",
   "execution_count": 4,
   "metadata": {},
   "outputs": [
    {
     "name": "stdout",
     "output_type": "stream",
     "text": [
      "Extracting ./data/test.zip...\n",
      "Finished extraction\n",
      "finished moving\n"
     ]
    }
   ],
   "source": [
    "#将测试数据集文件移动目标文件夹中\n",
    "helper.extract_file(test_save_path, data_path, test_extracted_path)\n",
    "helper.move_files(test_extracted_path, test_final_path1)"
   ]
  },
  {
   "cell_type": "code",
   "execution_count": 5,
   "metadata": {},
   "outputs": [
    {
     "name": "stdout",
     "output_type": "stream",
     "text": [
      "Extracting ./data/train.zip...\n",
      "Finished extraction\n",
      "Moving images to sub folders.\n",
      "Finish moving files to sub folders\n"
     ]
    }
   ],
   "source": [
    "#将训练集文件移到两个子目录下，作为将去除异常值的训练集数据\n",
    "helper.extract_file(train_save_path, data_path, train_extracted_path)\n",
    "helper.move_files_into_sub_classes(train_extracted_path, train_final_path2, classes)"
   ]
  }
 ],
 "metadata": {
  "kernelspec": {
   "display_name": "Python [conda env:tflearn]",
   "language": "python",
   "name": "conda-env-tflearn-py"
  },
  "language_info": {
   "codemirror_mode": {
    "name": "ipython",
    "version": 3
   },
   "file_extension": ".py",
   "mimetype": "text/x-python",
   "name": "python",
   "nbconvert_exporter": "python",
   "pygments_lexer": "ipython3",
   "version": "3.5.4"
  }
 },
 "nbformat": 4,
 "nbformat_minor": 2
}
