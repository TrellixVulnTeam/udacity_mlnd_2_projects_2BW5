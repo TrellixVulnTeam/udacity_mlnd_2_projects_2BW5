{
 "cells": [
  {
   "cell_type": "code",
   "execution_count": 1,
   "metadata": {},
   "outputs": [
    {
     "name": "stderr",
     "output_type": "stream",
     "text": [
      "/home/ubuntu/anaconda3/envs/tensorflow_p36/lib/python3.6/site-packages/h5py/__init__.py:36: FutureWarning: Conversion of the second argument of issubdtype from `float` to `np.floating` is deprecated. In future, it will be treated as `np.float64 == np.dtype(float).type`.\n",
      "  from ._conv import register_converters as _register_converters\n",
      "Using TensorFlow backend.\n",
      "/home/ubuntu/anaconda3/envs/tensorflow_p36/lib/python3.6/site-packages/matplotlib/__init__.py:1067: UserWarning: Duplicate key in file \"/home/ubuntu/.config/matplotlib/matplotlibrc\", line #2\n",
      "  (fname, cnt))\n",
      "/home/ubuntu/anaconda3/envs/tensorflow_p36/lib/python3.6/site-packages/matplotlib/__init__.py:1067: UserWarning: Duplicate key in file \"/home/ubuntu/.config/matplotlib/matplotlibrc\", line #3\n",
      "  (fname, cnt))\n"
     ]
    }
   ],
   "source": [
    "import helper\n",
    "import matplotlib.pyplot as plt\n",
    "from keras.applications import *\n",
    "from keras.callbacks import EarlyStopping\n",
    "import os"
   ]
  },
  {
   "cell_type": "code",
   "execution_count": 2,
   "metadata": {},
   "outputs": [],
   "source": [
    "#设置各种参数\n",
    "train_path = ['./data/train2/cat', './data/train2/dog']\n",
    "test_path ='./data/test1/test1'\n",
    "img_size =(299,299)\n",
    "layer_num = 125\n",
    "model_image ='./models/model_image_fine_tuning_xception_0403_02.png'\n",
    "model_weights_file = './models/weights_fine_tuning_xception_no_outliers_0403_02.h5'\n",
    "template_csv_path = './predicts/sample_submission.csv'\n",
    "target_csv_path = './predicts/pred_fine_tuning_xception_no_outliers_0403_02.csv'\n",
    "MODEL = xception.Xception\n",
    "preprocess_func = xception.preprocess_input"
   ]
  },
  {
   "cell_type": "code",
   "execution_count": 3,
   "metadata": {},
   "outputs": [
    {
     "name": "stdout",
     "output_type": "stream",
     "text": [
      "(24959, 299, 299, 3)\n",
      "(24959, 1)\n",
      "finished\n",
      "finished\n"
     ]
    }
   ],
   "source": [
    "#获取训练集数据\n",
    "X_train, y_train, image_files= helper.get_train_input_from_folder_with_subclasses(train_path, img_size, lambda_func=preprocess_func)\n",
    "print(\"finished\")"
   ]
  },
  {
   "cell_type": "code",
   "execution_count": 4,
   "metadata": {},
   "outputs": [
    {
     "name": "stdout",
     "output_type": "stream",
     "text": [
      "start\n",
      "(?, ?, ?, 3)\n",
      "(?, ?, ?, 2048)\n",
      "finished\n"
     ]
    }
   ],
   "source": [
    "#构造模型，锁定base_model所有层\n",
    "model = helper.get_fine_tuning_first_model(MODEL)\n",
    "\n",
    "#可视化模型\n",
    "helper.visualize_model(model, model_image)\n",
    "print(\"finished\")"
   ]
  },
  {
   "cell_type": "code",
   "execution_count": 5,
   "metadata": {},
   "outputs": [
    {
     "name": "stdout",
     "output_type": "stream",
     "text": [
      "start\n",
      "Train on 19967 samples, validate on 4992 samples\n",
      "Epoch 1/8\n",
      "19967/19967 [==============================] - 109s 5ms/step - loss: 0.1700 - acc: 0.9580 - val_loss: 0.1109 - val_acc: 0.9740\n",
      "Epoch 2/8\n",
      "19967/19967 [==============================] - 106s 5ms/step - loss: 0.0562 - acc: 0.9845 - val_loss: 0.0931 - val_acc: 0.9750\n",
      "Epoch 3/8\n",
      "19967/19967 [==============================] - 106s 5ms/step - loss: 0.0456 - acc: 0.9866 - val_loss: 0.0750 - val_acc: 0.9806\n",
      "Epoch 4/8\n",
      "19967/19967 [==============================] - 106s 5ms/step - loss: 0.0399 - acc: 0.9873 - val_loss: 0.0836 - val_acc: 0.9772\n",
      "Epoch 5/8\n",
      "19967/19967 [==============================] - 106s 5ms/step - loss: 0.0367 - acc: 0.9883 - val_loss: 0.0664 - val_acc: 0.9836\n",
      "Epoch 6/8\n",
      "19967/19967 [==============================] - 106s 5ms/step - loss: 0.0362 - acc: 0.9881 - val_loss: 0.0814 - val_acc: 0.9782\n",
      "Epoch 7/8\n",
      "19967/19967 [==============================] - 106s 5ms/step - loss: 0.0334 - acc: 0.9890 - val_loss: 0.0758 - val_acc: 0.9804\n",
      "Epoch 8/8\n",
      "19967/19967 [==============================] - 106s 5ms/step - loss: 0.0355 - acc: 0.9881 - val_loss: 0.0704 - val_acc: 0.9820\n",
      "finished\n"
     ]
    }
   ],
   "source": [
    "print(\"start\")\n",
    "#第一次训练新添加层权重\n",
    "early_stopping = EarlyStopping(monitor='val_loss', min_delta=0, patience=3, verbose=0, mode='auto')\n",
    "model.fit(X_train, y_train, batch_size=128, epochs=8, validation_split=0.2, callbacks=[early_stopping])\n",
    "print(\"finished\")"
   ]
  },
  {
   "cell_type": "code",
   "execution_count": 6,
   "metadata": {},
   "outputs": [
    {
     "name": "stdout",
     "output_type": "stream",
     "text": [
      "start\n",
      "Train on 19967 samples, validate on 4992 samples\n",
      "Epoch 1/60\n",
      "19967/19967 [==============================] - 111s 6ms/step - loss: 0.0338 - acc: 0.9891 - val_loss: 0.0344 - val_acc: 0.9918\n",
      "Epoch 2/60\n",
      "19967/19967 [==============================] - 110s 6ms/step - loss: 0.0329 - acc: 0.9888 - val_loss: 0.0348 - val_acc: 0.9918\n",
      "Epoch 3/60\n",
      "19967/19967 [==============================] - 110s 6ms/step - loss: 0.0323 - acc: 0.9890 - val_loss: 0.0351 - val_acc: 0.9918\n",
      "Epoch 4/60\n",
      "19967/19967 [==============================] - 110s 6ms/step - loss: 0.0339 - acc: 0.9885 - val_loss: 0.0355 - val_acc: 0.9918\n",
      "Epoch 5/60\n",
      "19967/19967 [==============================] - 110s 6ms/step - loss: 0.0325 - acc: 0.9895 - val_loss: 0.0355 - val_acc: 0.9918\n",
      "Epoch 6/60\n",
      "19967/19967 [==============================] - 110s 6ms/step - loss: 0.0319 - acc: 0.9900 - val_loss: 0.0358 - val_acc: 0.9918\n",
      "finished\n"
     ]
    }
   ],
   "source": [
    "print(\"start\")\n",
    "#放开若干层权重，再次训练\n",
    "model = helper.get_fine_tuning_second_model(model, layer_num)\n",
    "early_stopping = EarlyStopping(monitor='val_loss', min_delta=0, patience=5, verbose=0, mode='auto')\n",
    "model.fit(X_train, y_train, batch_size=128, epochs=60, validation_split=0.2, callbacks=[early_stopping])\n",
    "print(\"finished\")"
   ]
  },
  {
   "cell_type": "code",
   "execution_count": 7,
   "metadata": {},
   "outputs": [
    {
     "name": "stdout",
     "output_type": "stream",
     "text": [
      "finished\n"
     ]
    }
   ],
   "source": [
    "#保存模型参数\n",
    "model.save_weights(model_weights_file)\n",
    "del X_train\n",
    "del y_train\n",
    "print(\"finished\")"
   ]
  },
  {
   "cell_type": "code",
   "execution_count": 8,
   "metadata": {},
   "outputs": [
    {
     "name": "stdout",
     "output_type": "stream",
     "text": [
      "start\n",
      "finished\n",
      "12500/12500 [==============================] - 54s 4ms/step\n",
      "finished\n",
      "finished\n"
     ]
    }
   ],
   "source": [
    "print(\"start\")\n",
    "#获取测试数据和对应文件\n",
    "X_test, test_files = helper.get_input_from_folder_with_image_files(test_path, img_size, lambda_func=preprocess_func)\n",
    "\n",
    "#获取文件basename\n",
    "image_file_names = [os.path.basename(path) for path in test_files]\n",
    "\n",
    "#预测并保存预测结果到csv\n",
    "helper.predict_and_update_to_csv(model, X_test, image_file_names, template_csv_path, target_csv_path)\n",
    "\n",
    "print(\"finished\")"
   ]
  }
 ],
 "metadata": {
  "kernelspec": {
   "display_name": "Python [conda env:tflearn]",
   "language": "python",
   "name": "conda-env-tflearn-py"
  },
  "language_info": {
   "codemirror_mode": {
    "name": "ipython",
    "version": 3
   },
   "file_extension": ".py",
   "mimetype": "text/x-python",
   "name": "python",
   "nbconvert_exporter": "python",
   "pygments_lexer": "ipython3",
   "version": "3.5.4"
  }
 },
 "nbformat": 4,
 "nbformat_minor": 2
}
