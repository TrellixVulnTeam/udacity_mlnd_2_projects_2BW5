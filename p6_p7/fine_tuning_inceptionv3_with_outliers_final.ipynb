{
 "cells": [
  {
   "cell_type": "code",
   "execution_count": null,
   "metadata": {},
   "outputs": [],
   "source": [
    "import helper\n",
    "import matplotlib.pyplot as plt\n",
    "from keras.applications import *\n",
    "from keras.callbacks import EarlyStopping\n",
    "import os"
   ]
  },
  {
   "cell_type": "code",
   "execution_count": null,
   "metadata": {},
   "outputs": [],
   "source": [
    "#设置各种参数\n",
    "train_path = ['./data/train1/cat', './data/train1/dog']\n",
    "test_path ='./data/test1/test1'\n",
    "img_size =(299,299)\n",
    "layer_num = 249\n",
    "model_image ='./models/model_image_fine_tuning_inceptionv3_0401.png'\n",
    "model_weights_file = './models/weights_fine_tuning_inceptionv3_with_outliers_0401.h5'\n",
    "template_csv_path = './predicts/sample_submission.csv'\n",
    "target_csv_path = './predicts/pred_fine_tuning_inceptionv3_with_outliers_0401.csv'\n",
    "MODEL = inception_v3.InceptionV3\n",
    "preprocess_func = inception_v3.preprocess_input"
   ]
  },
  {
   "cell_type": "code",
   "execution_count": 3,
   "metadata": {},
   "outputs": [
    {
     "name": "stdout",
     "output_type": "stream",
     "text": [
      "(25000, 299, 299, 3)\n",
      "(25000, 1)\n",
      "finished\n",
      "finished\n"
     ]
    }
   ],
   "source": [
    "#获取训练集数据\n",
    "X_train, y_train, image_files= helper.get_train_input_from_folder_with_subclasses(train_path, img_size, lambda_func=preprocess_func)\n",
    "print(\"finished\")"
   ]
  },
  {
   "cell_type": "code",
   "execution_count": null,
   "metadata": {},
   "outputs": [],
   "source": [
    "#构造模型，锁定base_model所有层\n",
    "model = helper.get_fine_tuning_first_model(MODEL)\n",
    "\n",
    "#可视化模型\n",
    "helper.visualize_model(model, model_image)\n",
    "print(\"finished\")"
   ]
  },
  {
   "cell_type": "code",
   "execution_count": 5,
   "metadata": {},
   "outputs": [
    {
     "name": "stdout",
     "output_type": "stream",
     "text": [
      "start\n",
      "Train on 20000 samples, validate on 5000 samples\n",
      "Epoch 1/8\n",
      "20000/20000 [==============================] - 74s 4ms/step - loss: 0.2430 - acc: 0.9139 - val_loss: 0.0555 - val_acc: 0.9892\n",
      "Epoch 2/8\n",
      "20000/20000 [==============================] - 68s 3ms/step - loss: 0.1070 - acc: 0.9640 - val_loss: 0.1555 - val_acc: 0.9422\n",
      "Epoch 3/8\n",
      "20000/20000 [==============================] - 68s 3ms/step - loss: 0.0905 - acc: 0.9675 - val_loss: 0.0911 - val_acc: 0.9708\n",
      "Epoch 4/8\n",
      "20000/20000 [==============================] - 68s 3ms/step - loss: 0.0850 - acc: 0.9692 - val_loss: 0.0606 - val_acc: 0.9842\n",
      "finished\n"
     ]
    }
   ],
   "source": [
    "print(\"start\")\n",
    "#第一次训练新添加层权重\n",
    "early_stopping = EarlyStopping(monitor='val_loss', min_delta=0, patience=3, verbose=0, mode='auto')\n",
    "model.fit(X_train, y_train, batch_size=128, epochs=8, validation_split=0.2, callbacks=[early_stopping])\n",
    "print(\"finished\")"
   ]
  },
  {
   "cell_type": "code",
   "execution_count": 6,
   "metadata": {},
   "outputs": [
    {
     "name": "stdout",
     "output_type": "stream",
     "text": [
      "start\n",
      "Train on 20000 samples, validate on 5000 samples\n",
      "Epoch 1/50\n",
      "20000/20000 [==============================] - 76s 4ms/step - loss: 0.0752 - acc: 0.9721 - val_loss: 0.0307 - val_acc: 0.9912\n",
      "Epoch 2/50\n",
      "20000/20000 [==============================] - 73s 4ms/step - loss: 0.0674 - acc: 0.9759 - val_loss: 0.0279 - val_acc: 0.9912\n",
      "Epoch 3/50\n",
      "20000/20000 [==============================] - 73s 4ms/step - loss: 0.0639 - acc: 0.9772 - val_loss: 0.0254 - val_acc: 0.9914\n",
      "Epoch 4/50\n",
      "20000/20000 [==============================] - 74s 4ms/step - loss: 0.0581 - acc: 0.9785 - val_loss: 0.0240 - val_acc: 0.9920\n",
      "Epoch 5/50\n",
      "20000/20000 [==============================] - 74s 4ms/step - loss: 0.0554 - acc: 0.9802 - val_loss: 0.0228 - val_acc: 0.9920\n",
      "Epoch 6/50\n",
      "20000/20000 [==============================] - 74s 4ms/step - loss: 0.0538 - acc: 0.9803 - val_loss: 0.0217 - val_acc: 0.9924\n",
      "Epoch 7/50\n",
      "20000/20000 [==============================] - 74s 4ms/step - loss: 0.0496 - acc: 0.9824 - val_loss: 0.0210 - val_acc: 0.9928\n",
      "Epoch 8/50\n",
      "20000/20000 [==============================] - 74s 4ms/step - loss: 0.0493 - acc: 0.9822 - val_loss: 0.0203 - val_acc: 0.9930\n",
      "Epoch 9/50\n",
      "20000/20000 [==============================] - 74s 4ms/step - loss: 0.0468 - acc: 0.9821 - val_loss: 0.0201 - val_acc: 0.9928\n",
      "Epoch 10/50\n",
      "20000/20000 [==============================] - 74s 4ms/step - loss: 0.0441 - acc: 0.9838 - val_loss: 0.0195 - val_acc: 0.9930\n",
      "Epoch 11/50\n",
      "20000/20000 [==============================] - 74s 4ms/step - loss: 0.0444 - acc: 0.9837 - val_loss: 0.0193 - val_acc: 0.9934\n",
      "Epoch 12/50\n",
      "20000/20000 [==============================] - 74s 4ms/step - loss: 0.0419 - acc: 0.9842 - val_loss: 0.0186 - val_acc: 0.9936\n",
      "Epoch 13/50\n",
      "20000/20000 [==============================] - 74s 4ms/step - loss: 0.0400 - acc: 0.9858 - val_loss: 0.0182 - val_acc: 0.9942\n",
      "Epoch 14/50\n",
      "20000/20000 [==============================] - 74s 4ms/step - loss: 0.0390 - acc: 0.9857 - val_loss: 0.0181 - val_acc: 0.9942\n",
      "Epoch 15/50\n",
      "20000/20000 [==============================] - 74s 4ms/step - loss: 0.0384 - acc: 0.9869 - val_loss: 0.0178 - val_acc: 0.9942\n",
      "Epoch 16/50\n",
      "20000/20000 [==============================] - 74s 4ms/step - loss: 0.0371 - acc: 0.9863 - val_loss: 0.0176 - val_acc: 0.9942\n",
      "Epoch 17/50\n",
      "20000/20000 [==============================] - 74s 4ms/step - loss: 0.0351 - acc: 0.9871 - val_loss: 0.0177 - val_acc: 0.9940\n",
      "Epoch 18/50\n",
      "20000/20000 [==============================] - 74s 4ms/step - loss: 0.0354 - acc: 0.9873 - val_loss: 0.0173 - val_acc: 0.9942\n",
      "Epoch 19/50\n",
      "20000/20000 [==============================] - 74s 4ms/step - loss: 0.0321 - acc: 0.9883 - val_loss: 0.0171 - val_acc: 0.9942\n",
      "Epoch 20/50\n",
      "20000/20000 [==============================] - 74s 4ms/step - loss: 0.0344 - acc: 0.9870 - val_loss: 0.0170 - val_acc: 0.9942\n",
      "Epoch 21/50\n",
      "20000/20000 [==============================] - 74s 4ms/step - loss: 0.0305 - acc: 0.9890 - val_loss: 0.0168 - val_acc: 0.9942\n",
      "Epoch 22/50\n",
      "20000/20000 [==============================] - 74s 4ms/step - loss: 0.0316 - acc: 0.9885 - val_loss: 0.0168 - val_acc: 0.9942\n",
      "Epoch 23/50\n",
      "20000/20000 [==============================] - 74s 4ms/step - loss: 0.0291 - acc: 0.9905 - val_loss: 0.0167 - val_acc: 0.9942\n",
      "Epoch 24/50\n",
      "20000/20000 [==============================] - 74s 4ms/step - loss: 0.0295 - acc: 0.9897 - val_loss: 0.0165 - val_acc: 0.9942\n",
      "Epoch 25/50\n",
      "20000/20000 [==============================] - 74s 4ms/step - loss: 0.0272 - acc: 0.9912 - val_loss: 0.0166 - val_acc: 0.9944\n",
      "Epoch 26/50\n",
      "20000/20000 [==============================] - 74s 4ms/step - loss: 0.0281 - acc: 0.9899 - val_loss: 0.0165 - val_acc: 0.9942\n",
      "Epoch 27/50\n",
      "20000/20000 [==============================] - 74s 4ms/step - loss: 0.0278 - acc: 0.9899 - val_loss: 0.0164 - val_acc: 0.9946\n",
      "Epoch 28/50\n",
      "20000/20000 [==============================] - 74s 4ms/step - loss: 0.0269 - acc: 0.9904 - val_loss: 0.0165 - val_acc: 0.9946\n",
      "Epoch 29/50\n",
      "20000/20000 [==============================] - 74s 4ms/step - loss: 0.0255 - acc: 0.9912 - val_loss: 0.0161 - val_acc: 0.9944\n",
      "Epoch 30/50\n",
      "20000/20000 [==============================] - 73s 4ms/step - loss: 0.0237 - acc: 0.9922 - val_loss: 0.0161 - val_acc: 0.9944\n",
      "Epoch 31/50\n",
      "20000/20000 [==============================] - 74s 4ms/step - loss: 0.0255 - acc: 0.9911 - val_loss: 0.0160 - val_acc: 0.9944\n",
      "Epoch 32/50\n",
      "20000/20000 [==============================] - 74s 4ms/step - loss: 0.0227 - acc: 0.9924 - val_loss: 0.0160 - val_acc: 0.9944\n",
      "Epoch 33/50\n",
      "20000/20000 [==============================] - 74s 4ms/step - loss: 0.0228 - acc: 0.9919 - val_loss: 0.0159 - val_acc: 0.9944\n",
      "Epoch 34/50\n",
      "20000/20000 [==============================] - 74s 4ms/step - loss: 0.0239 - acc: 0.9919 - val_loss: 0.0160 - val_acc: 0.9946\n",
      "Epoch 35/50\n",
      "20000/20000 [==============================] - 74s 4ms/step - loss: 0.0222 - acc: 0.9929 - val_loss: 0.0157 - val_acc: 0.9942\n",
      "Epoch 36/50\n",
      "20000/20000 [==============================] - 74s 4ms/step - loss: 0.0219 - acc: 0.9927 - val_loss: 0.0158 - val_acc: 0.9944\n",
      "Epoch 37/50\n",
      "20000/20000 [==============================] - 74s 4ms/step - loss: 0.0208 - acc: 0.9934 - val_loss: 0.0158 - val_acc: 0.9942\n",
      "Epoch 38/50\n",
      "20000/20000 [==============================] - 74s 4ms/step - loss: 0.0229 - acc: 0.9923 - val_loss: 0.0159 - val_acc: 0.9946\n",
      "Epoch 39/50\n",
      "20000/20000 [==============================] - 74s 4ms/step - loss: 0.0198 - acc: 0.9933 - val_loss: 0.0158 - val_acc: 0.9944\n",
      "Epoch 40/50\n",
      "20000/20000 [==============================] - 74s 4ms/step - loss: 0.0200 - acc: 0.9931 - val_loss: 0.0158 - val_acc: 0.9944\n",
      "finished\n"
     ]
    }
   ],
   "source": [
    "print(\"start\")\n",
    "#放开若干层权重，再次训练\n",
    "model = helper.get_fine_tuning_second_model(model, layer_num)\n",
    "early_stopping = EarlyStopping(monitor='val_loss', min_delta=0, patience=5, verbose=0, mode='auto')\n",
    "model.fit(X_train, y_train, batch_size=128, epochs=50, validation_split=0.2, callbacks=[early_stopping])\n",
    "print(\"finished\")"
   ]
  },
  {
   "cell_type": "code",
   "execution_count": 7,
   "metadata": {},
   "outputs": [
    {
     "name": "stdout",
     "output_type": "stream",
     "text": [
      "finished\n"
     ]
    }
   ],
   "source": [
    "#保存模型参数\n",
    "model.save_weights(model_weights_file)\n",
    "del X_train\n",
    "del y_train\n",
    "print(\"finished\")"
   ]
  },
  {
   "cell_type": "code",
   "execution_count": 8,
   "metadata": {},
   "outputs": [
    {
     "name": "stdout",
     "output_type": "stream",
     "text": [
      "start\n",
      "finished\n",
      "12500/12500 [==============================] - 41s 3ms/step\n",
      "finished\n"
     ]
    }
   ],
   "source": [
    "print(\"start\")\n",
    "#获取测试数据和对应文件\n",
    "X_test, test_files = helper.get_input_from_folder_with_image_files(test_path, img_size, lambda_func=preprocess_func)\n",
    "\n",
    "#获取文件basename\n",
    "image_file_names = [os.path.basename(path) for path in test_files]\n",
    "\n",
    "#预测并保存预测结果到csv\n",
    "helper.predict_and_update_to_csv(model, X_test, image_file_names, template_csv_path, target_csv_path)\n",
    "\n",
    "print(\"finished\")"
   ]
  }
 ],
 "metadata": {
  "kernelspec": {
   "display_name": "Python [conda env:tflearn]",
   "language": "python",
   "name": "conda-env-tflearn-py"
  },
  "language_info": {
   "codemirror_mode": {
    "name": "ipython",
    "version": 3
   },
   "file_extension": ".py",
   "mimetype": "text/x-python",
   "name": "python",
   "nbconvert_exporter": "python",
   "pygments_lexer": "ipython3",
   "version": "3.5.4"
  }
 },
 "nbformat": 4,
 "nbformat_minor": 2
}
