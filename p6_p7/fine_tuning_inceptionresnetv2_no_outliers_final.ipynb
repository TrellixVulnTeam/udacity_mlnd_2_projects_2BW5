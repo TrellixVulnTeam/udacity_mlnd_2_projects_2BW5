{
 "cells": [
  {
   "cell_type": "code",
   "execution_count": 1,
   "metadata": {},
   "outputs": [
    {
     "name": "stderr",
     "output_type": "stream",
     "text": [
      "/home/ubuntu/anaconda3/envs/tensorflow_p36/lib/python3.6/site-packages/h5py/__init__.py:36: FutureWarning: Conversion of the second argument of issubdtype from `float` to `np.floating` is deprecated. In future, it will be treated as `np.float64 == np.dtype(float).type`.\n",
      "  from ._conv import register_converters as _register_converters\n",
      "Using TensorFlow backend.\n",
      "/home/ubuntu/anaconda3/envs/tensorflow_p36/lib/python3.6/site-packages/matplotlib/__init__.py:1067: UserWarning: Duplicate key in file \"/home/ubuntu/.config/matplotlib/matplotlibrc\", line #2\n",
      "  (fname, cnt))\n",
      "/home/ubuntu/anaconda3/envs/tensorflow_p36/lib/python3.6/site-packages/matplotlib/__init__.py:1067: UserWarning: Duplicate key in file \"/home/ubuntu/.config/matplotlib/matplotlibrc\", line #3\n",
      "  (fname, cnt))\n"
     ]
    }
   ],
   "source": [
    "import helper\n",
    "import matplotlib.pyplot as plt\n",
    "from keras.applications import *\n",
    "from keras.callbacks import EarlyStopping\n",
    "import os"
   ]
  },
  {
   "cell_type": "code",
   "execution_count": 3,
   "metadata": {},
   "outputs": [],
   "source": [
    "#设置各种参数\n",
    "train_path = ['./data/train2/cat', './data/train2/dog']\n",
    "test_path ='./data/test1/test1'\n",
    "img_size =(299,299)\n",
    "layer_num = 630\n",
    "model_image ='./models/model_image_fine_tuning_inceptionresnetv2_0402_nu.png'\n",
    "model_weights_file = './models/weights_fine_tuning_inceptionresnetv2_with_outliers_0402_nu.h5'\n",
    "template_csv_path = './predicts/sample_submission.csv'\n",
    "target_csv_path = './predicts/pred_fine_tuning_inceptionresnetv2_with_outliers_0402_nu.csv'\n",
    "MODEL = inception_resnet_v2.InceptionResNetV2\n",
    "preprocess_func = inception_resnet_v2.preprocess_input"
   ]
  },
  {
   "cell_type": "code",
   "execution_count": 4,
   "metadata": {},
   "outputs": [
    {
     "name": "stdout",
     "output_type": "stream",
     "text": [
      "(24959, 299, 299, 3)\n",
      "(24959, 1)\n",
      "finished\n",
      "finished\n"
     ]
    }
   ],
   "source": [
    "#获取训练集数据\n",
    "X_train, y_train, image_files= helper.get_train_input_from_folder_with_subclasses(train_path, img_size, lambda_func=preprocess_func)\n",
    "print(\"finished\")"
   ]
  },
  {
   "cell_type": "code",
   "execution_count": 5,
   "metadata": {},
   "outputs": [
    {
     "name": "stdout",
     "output_type": "stream",
     "text": [
      "start\n",
      "(?, ?, ?, 3)\n",
      "(?, ?, ?, 1536)\n",
      "dot: graph is too large for cairo-renderer bitmaps. Scaling by 0.517034 to fit\n",
      "\n",
      "finished\n"
     ]
    }
   ],
   "source": [
    "#构造模型，锁定base_model所有层\n",
    "model = helper.get_fine_tuning_first_model(MODEL)\n",
    "\n",
    "#可视化模型\n",
    "helper.visualize_model(model, model_image)\n",
    "print(\"finished\")"
   ]
  },
  {
   "cell_type": "code",
   "execution_count": 5,
   "metadata": {},
   "outputs": [
    {
     "name": "stdout",
     "output_type": "stream",
     "text": [
      "start\n",
      "Train on 19967 samples, validate on 4992 samples\n",
      "Epoch 1/8\n",
      "19967/19967 [==============================] - 133s 7ms/step - loss: 0.2058 - acc: 0.9359 - val_loss: 0.0791 - val_acc: 0.9822\n",
      "Epoch 2/8\n",
      "19967/19967 [==============================] - 123s 6ms/step - loss: 0.0866 - acc: 0.9741 - val_loss: 0.0568 - val_acc: 0.9872\n",
      "Epoch 3/8\n",
      "19967/19967 [==============================] - 124s 6ms/step - loss: 0.0740 - acc: 0.9759 - val_loss: 0.0884 - val_acc: 0.9730\n",
      "Epoch 4/8\n",
      "19967/19967 [==============================] - 124s 6ms/step - loss: 0.0660 - acc: 0.9778 - val_loss: 0.0403 - val_acc: 0.9898\n",
      "Epoch 5/8\n",
      "19967/19967 [==============================] - 124s 6ms/step - loss: 0.0668 - acc: 0.9771 - val_loss: 0.0670 - val_acc: 0.9804\n",
      "Epoch 6/8\n",
      "19967/19967 [==============================] - 124s 6ms/step - loss: 0.0602 - acc: 0.9799 - val_loss: 0.0495 - val_acc: 0.9862\n",
      "Epoch 7/8\n",
      "19967/19967 [==============================] - 124s 6ms/step - loss: 0.0572 - acc: 0.9791 - val_loss: 0.0795 - val_acc: 0.9754\n",
      "finished\n"
     ]
    }
   ],
   "source": [
    "print(\"start\")\n",
    "#第一次训练新添加层权重\n",
    "early_stopping = EarlyStopping(monitor='val_loss', min_delta=0, patience=3, verbose=0, mode='auto')\n",
    "model.fit(X_train, y_train, batch_size=128, epochs=8, validation_split=0.2, callbacks=[early_stopping])\n",
    "print(\"finished\")"
   ]
  },
  {
   "cell_type": "code",
   "execution_count": 6,
   "metadata": {},
   "outputs": [
    {
     "name": "stdout",
     "output_type": "stream",
     "text": [
      "start\n",
      "Train on 19967 samples, validate on 4992 samples\n",
      "Epoch 1/50\n",
      "19967/19967 [==============================] - 146s 7ms/step - loss: 0.0573 - acc: 0.9805 - val_loss: 0.0237 - val_acc: 0.9960\n",
      "Epoch 2/50\n",
      "19967/19967 [==============================] - 135s 7ms/step - loss: 0.0563 - acc: 0.9800 - val_loss: 0.0215 - val_acc: 0.9960\n",
      "Epoch 3/50\n",
      "19967/19967 [==============================] - 135s 7ms/step - loss: 0.0504 - acc: 0.9834 - val_loss: 0.0200 - val_acc: 0.9962\n",
      "Epoch 4/50\n",
      "19967/19967 [==============================] - 135s 7ms/step - loss: 0.0494 - acc: 0.9824 - val_loss: 0.0190 - val_acc: 0.9960\n",
      "Epoch 5/50\n",
      "19967/19967 [==============================] - 135s 7ms/step - loss: 0.0477 - acc: 0.9836 - val_loss: 0.0181 - val_acc: 0.9964\n",
      "Epoch 6/50\n",
      "19967/19967 [==============================] - 135s 7ms/step - loss: 0.0462 - acc: 0.9839 - val_loss: 0.0175 - val_acc: 0.9964\n",
      "Epoch 7/50\n",
      "19967/19967 [==============================] - 135s 7ms/step - loss: 0.0453 - acc: 0.9836 - val_loss: 0.0168 - val_acc: 0.9966\n",
      "Epoch 8/50\n",
      "19967/19967 [==============================] - 135s 7ms/step - loss: 0.0437 - acc: 0.9840 - val_loss: 0.0163 - val_acc: 0.9968\n",
      "Epoch 9/50\n",
      "19967/19967 [==============================] - 135s 7ms/step - loss: 0.0435 - acc: 0.9838 - val_loss: 0.0158 - val_acc: 0.9968\n",
      "Epoch 10/50\n",
      "19967/19967 [==============================] - 135s 7ms/step - loss: 0.0416 - acc: 0.9849 - val_loss: 0.0155 - val_acc: 0.9970\n",
      "Epoch 11/50\n",
      "19967/19967 [==============================] - 136s 7ms/step - loss: 0.0407 - acc: 0.9855 - val_loss: 0.0151 - val_acc: 0.9970\n",
      "Epoch 12/50\n",
      "19967/19967 [==============================] - 135s 7ms/step - loss: 0.0392 - acc: 0.9861 - val_loss: 0.0147 - val_acc: 0.9970\n",
      "Epoch 13/50\n",
      "19967/19967 [==============================] - 135s 7ms/step - loss: 0.0402 - acc: 0.9853 - val_loss: 0.0144 - val_acc: 0.9970\n",
      "Epoch 14/50\n",
      "19967/19967 [==============================] - 135s 7ms/step - loss: 0.0391 - acc: 0.9863 - val_loss: 0.0141 - val_acc: 0.9970\n",
      "Epoch 15/50\n",
      "19967/19967 [==============================] - 135s 7ms/step - loss: 0.0387 - acc: 0.9859 - val_loss: 0.0140 - val_acc: 0.9970\n",
      "Epoch 16/50\n",
      "19967/19967 [==============================] - 135s 7ms/step - loss: 0.0368 - acc: 0.9874 - val_loss: 0.0136 - val_acc: 0.9970\n",
      "Epoch 17/50\n",
      "19967/19967 [==============================] - 135s 7ms/step - loss: 0.0375 - acc: 0.9862 - val_loss: 0.0134 - val_acc: 0.9970\n",
      "Epoch 18/50\n",
      "19967/19967 [==============================] - 135s 7ms/step - loss: 0.0349 - acc: 0.9874 - val_loss: 0.0132 - val_acc: 0.9970\n",
      "Epoch 19/50\n",
      "19967/19967 [==============================] - 135s 7ms/step - loss: 0.0361 - acc: 0.9874 - val_loss: 0.0130 - val_acc: 0.9970\n",
      "Epoch 20/50\n",
      "19967/19967 [==============================] - 135s 7ms/step - loss: 0.0355 - acc: 0.9868 - val_loss: 0.0129 - val_acc: 0.9970\n",
      "Epoch 21/50\n",
      "19967/19967 [==============================] - 135s 7ms/step - loss: 0.0353 - acc: 0.9880 - val_loss: 0.0128 - val_acc: 0.9970\n",
      "Epoch 22/50\n",
      "19967/19967 [==============================] - 135s 7ms/step - loss: 0.0320 - acc: 0.9890 - val_loss: 0.0127 - val_acc: 0.9970\n",
      "Epoch 23/50\n",
      "19967/19967 [==============================] - 135s 7ms/step - loss: 0.0334 - acc: 0.9878 - val_loss: 0.0124 - val_acc: 0.9972\n",
      "Epoch 24/50\n",
      "19967/19967 [==============================] - 135s 7ms/step - loss: 0.0327 - acc: 0.9884 - val_loss: 0.0124 - val_acc: 0.9972\n",
      "Epoch 25/50\n",
      "19967/19967 [==============================] - 135s 7ms/step - loss: 0.0301 - acc: 0.9901 - val_loss: 0.0124 - val_acc: 0.9968\n",
      "Epoch 26/50\n",
      "19967/19967 [==============================] - 135s 7ms/step - loss: 0.0324 - acc: 0.9881 - val_loss: 0.0122 - val_acc: 0.9970\n",
      "Epoch 27/50\n",
      "19967/19967 [==============================] - 135s 7ms/step - loss: 0.0323 - acc: 0.9879 - val_loss: 0.0121 - val_acc: 0.9970\n",
      "Epoch 28/50\n",
      "19967/19967 [==============================] - 135s 7ms/step - loss: 0.0302 - acc: 0.9883 - val_loss: 0.0120 - val_acc: 0.9970\n",
      "Epoch 29/50\n",
      "19967/19967 [==============================] - 135s 7ms/step - loss: 0.0292 - acc: 0.9890 - val_loss: 0.0120 - val_acc: 0.9970\n",
      "Epoch 30/50\n",
      "19967/19967 [==============================] - 135s 7ms/step - loss: 0.0290 - acc: 0.9891 - val_loss: 0.0119 - val_acc: 0.9970\n",
      "Epoch 31/50\n",
      "19967/19967 [==============================] - 135s 7ms/step - loss: 0.0304 - acc: 0.9890 - val_loss: 0.0117 - val_acc: 0.9968\n",
      "Epoch 32/50\n",
      "19967/19967 [==============================] - 135s 7ms/step - loss: 0.0287 - acc: 0.9893 - val_loss: 0.0117 - val_acc: 0.9970\n",
      "Epoch 33/50\n",
      "19967/19967 [==============================] - 135s 7ms/step - loss: 0.0280 - acc: 0.9897 - val_loss: 0.0116 - val_acc: 0.9968\n",
      "Epoch 34/50\n",
      "19967/19967 [==============================] - 135s 7ms/step - loss: 0.0288 - acc: 0.9889 - val_loss: 0.0116 - val_acc: 0.9970\n",
      "Epoch 35/50\n",
      "19967/19967 [==============================] - 135s 7ms/step - loss: 0.0285 - acc: 0.9891 - val_loss: 0.0115 - val_acc: 0.9968\n",
      "Epoch 36/50\n",
      "19967/19967 [==============================] - 134s 7ms/step - loss: 0.0260 - acc: 0.9908 - val_loss: 0.0115 - val_acc: 0.9968\n",
      "Epoch 37/50\n",
      "19967/19967 [==============================] - 135s 7ms/step - loss: 0.0264 - acc: 0.9905 - val_loss: 0.0114 - val_acc: 0.9968\n",
      "Epoch 38/50\n",
      "19967/19967 [==============================] - 134s 7ms/step - loss: 0.0263 - acc: 0.9897 - val_loss: 0.0113 - val_acc: 0.9968\n",
      "Epoch 39/50\n",
      "19967/19967 [==============================] - 135s 7ms/step - loss: 0.0250 - acc: 0.9906 - val_loss: 0.0113 - val_acc: 0.9968\n",
      "Epoch 40/50\n",
      "19967/19967 [==============================] - 134s 7ms/step - loss: 0.0252 - acc: 0.9917 - val_loss: 0.0113 - val_acc: 0.9968\n",
      "Epoch 41/50\n",
      "19967/19967 [==============================] - 134s 7ms/step - loss: 0.0247 - acc: 0.9912 - val_loss: 0.0112 - val_acc: 0.9968\n",
      "Epoch 42/50\n",
      "19967/19967 [==============================] - 134s 7ms/step - loss: 0.0231 - acc: 0.9916 - val_loss: 0.0112 - val_acc: 0.9968\n",
      "Epoch 43/50\n",
      "19967/19967 [==============================] - 135s 7ms/step - loss: 0.0237 - acc: 0.9913 - val_loss: 0.0112 - val_acc: 0.9968\n",
      "Epoch 44/50\n",
      "19967/19967 [==============================] - 135s 7ms/step - loss: 0.0259 - acc: 0.9905 - val_loss: 0.0112 - val_acc: 0.9968\n",
      "Epoch 45/50\n",
      "19967/19967 [==============================] - 135s 7ms/step - loss: 0.0244 - acc: 0.9905 - val_loss: 0.0110 - val_acc: 0.9968\n",
      "Epoch 46/50\n",
      "19967/19967 [==============================] - 135s 7ms/step - loss: 0.0222 - acc: 0.9923 - val_loss: 0.0110 - val_acc: 0.9968\n",
      "Epoch 47/50\n",
      "19967/19967 [==============================] - 134s 7ms/step - loss: 0.0230 - acc: 0.9916 - val_loss: 0.0110 - val_acc: 0.9968\n",
      "Epoch 48/50\n",
      "19967/19967 [==============================] - 134s 7ms/step - loss: 0.0230 - acc: 0.9919 - val_loss: 0.0110 - val_acc: 0.9968\n",
      "Epoch 49/50\n",
      "19967/19967 [==============================] - 134s 7ms/step - loss: 0.0241 - acc: 0.9911 - val_loss: 0.0109 - val_acc: 0.9968\n",
      "Epoch 50/50\n",
      "19967/19967 [==============================] - 134s 7ms/step - loss: 0.0224 - acc: 0.9923 - val_loss: 0.0109 - val_acc: 0.9968\n",
      "finished\n"
     ]
    }
   ],
   "source": [
    "print(\"start\")\n",
    "#放开若干层权重，再次训练\n",
    "model = helper.get_fine_tuning_second_model(model, layer_num)\n",
    "early_stopping = EarlyStopping(monitor='val_loss', min_delta=0, patience=5, verbose=0, mode='auto')\n",
    "model.fit(X_train, y_train, batch_size=128, epochs=50, validation_split=0.2, callbacks=[early_stopping])\n",
    "print(\"finished\")"
   ]
  },
  {
   "cell_type": "code",
   "execution_count": 7,
   "metadata": {},
   "outputs": [
    {
     "name": "stdout",
     "output_type": "stream",
     "text": [
      "finished\n"
     ]
    }
   ],
   "source": [
    "#保存模型参数\n",
    "model.save_weights(model_weights_file)\n",
    "del X_train\n",
    "del y_train\n",
    "print(\"finished\")"
   ]
  },
  {
   "cell_type": "code",
   "execution_count": 8,
   "metadata": {},
   "outputs": [
    {
     "name": "stdout",
     "output_type": "stream",
     "text": [
      "start\n",
      "finished\n",
      "12500/12500 [==============================] - 71s 6ms/step\n",
      "finished\n",
      "finished\n"
     ]
    }
   ],
   "source": [
    "print(\"start\")\n",
    "#获取测试数据和对应文件\n",
    "X_test, test_files = helper.get_input_from_folder_with_image_files(test_path, img_size, lambda_func=preprocess_func)\n",
    "\n",
    "#获取文件basename\n",
    "image_file_names = [os.path.basename(path) for path in test_files]\n",
    "\n",
    "#预测并保存预测结果到csv\n",
    "helper.predict_and_update_to_csv(model, X_test, image_file_names, template_csv_path, target_csv_path)\n",
    "\n",
    "print(\"finished\")"
   ]
  }
 ],
 "metadata": {
  "kernelspec": {
   "display_name": "Environment (conda_tensorflow_p36)",
   "language": "python",
   "name": "conda_tensorflow_p36"
  },
  "language_info": {
   "codemirror_mode": {
    "name": "ipython",
    "version": 3
   },
   "file_extension": ".py",
   "mimetype": "text/x-python",
   "name": "python",
   "nbconvert_exporter": "python",
   "pygments_lexer": "ipython3",
   "version": "3.6.4"
  }
 },
 "nbformat": 4,
 "nbformat_minor": 2
}
