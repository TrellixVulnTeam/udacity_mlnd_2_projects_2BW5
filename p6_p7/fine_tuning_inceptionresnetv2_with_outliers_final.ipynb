{
 "cells": [
  {
   "cell_type": "code",
   "execution_count": 1,
   "metadata": {},
   "outputs": [
    {
     "name": "stderr",
     "output_type": "stream",
     "text": [
      "Using TensorFlow backend.\n"
     ]
    }
   ],
   "source": [
    "import helper\n",
    "import matplotlib.pyplot as plt\n",
    "from keras.applications import *\n",
    "from keras.callbacks import EarlyStopping\n",
    "import os"
   ]
  },
  {
   "cell_type": "code",
   "execution_count": 2,
   "metadata": {},
   "outputs": [],
   "source": [
    "#设置各种参数\n",
    "train_path = ['./data/train1/cat', './data/train1/dog']\n",
    "test_path ='./data/test1/test1'\n",
    "img_size =(299,299)\n",
    "layer_num = 630\n",
    "model_image ='./models/model_image_fine_tuning_inceptionresnetv2_0401.png'\n",
    "model_weights_file = './models/weights_fine_tuning_inceptionresnetv2_with_outliers_0401.h5'\n",
    "template_csv_path = './predicts/sample_submission.csv'\n",
    "target_csv_path = './predicts/pred_fine_tuning_inceptionresnetv2_with_outliers_0401.csv'\n",
    "MODEL = inception_resnet_v2.InceptionResNetV2\n",
    "preprocess_func = inception_resnet_v2.preprocess_input"
   ]
  },
  {
   "cell_type": "code",
   "execution_count": 3,
   "metadata": {},
   "outputs": [
    {
     "name": "stdout",
     "output_type": "stream",
     "text": [
      "(25000, 299, 299, 3)\n",
      "(25000, 1)\n",
      "finished\n",
      "finished\n"
     ]
    }
   ],
   "source": [
    "#获取训练集数据\n",
    "X_train, y_train, image_files= helper.get_train_input_from_folder_with_subclasses(train_path, img_size, lambda_func=preprocess_func)\n",
    "print(\"finished\")"
   ]
  },
  {
   "cell_type": "code",
   "execution_count": 4,
   "metadata": {},
   "outputs": [
    {
     "name": "stdout",
     "output_type": "stream",
     "text": [
      "start\n",
      "(?, ?, ?, 3)\n",
      "(?, ?, ?, 1536)\n",
      "finished\n"
     ]
    }
   ],
   "source": [
    "#构造模型，锁定base_model所有层\n",
    "model = helper.get_fine_tuning_first_model(MODEL)\n",
    "\n",
    "#可视化模型\n",
    "#helper.visualize_model(model, model_image)\n",
    "print(\"finished\")"
   ]
  },
  {
   "cell_type": "code",
   "execution_count": 5,
   "metadata": {},
   "outputs": [
    {
     "name": "stdout",
     "output_type": "stream",
     "text": [
      "start\n",
      "Train on 20000 samples, validate on 5000 samples\n",
      "Epoch 1/8\n",
      "20000/20000 [==============================] - 130s 7ms/step - loss: 0.2124 - acc: 0.9301 - val_loss: 0.1364 - val_acc: 0.9518\n",
      "Epoch 2/8\n",
      "20000/20000 [==============================] - 123s 6ms/step - loss: 0.0882 - acc: 0.9732 - val_loss: 0.0962 - val_acc: 0.9712\n",
      "Epoch 3/8\n",
      "20000/20000 [==============================] - 123s 6ms/step - loss: 0.0734 - acc: 0.9756 - val_loss: 0.0653 - val_acc: 0.9808\n",
      "Epoch 4/8\n",
      "20000/20000 [==============================] - 123s 6ms/step - loss: 0.0652 - acc: 0.9781 - val_loss: 0.0711 - val_acc: 0.9780\n",
      "Epoch 5/8\n",
      "20000/20000 [==============================] - 123s 6ms/step - loss: 0.0644 - acc: 0.9774 - val_loss: 0.0921 - val_acc: 0.9720\n",
      "Epoch 6/8\n",
      "20000/20000 [==============================] - 123s 6ms/step - loss: 0.0616 - acc: 0.9791 - val_loss: 0.1089 - val_acc: 0.9654\n",
      "finished\n"
     ]
    }
   ],
   "source": [
    "print(\"start\")\n",
    "#第一次训练新添加层权重\n",
    "early_stopping = EarlyStopping(monitor='val_loss', min_delta=0, patience=3, verbose=0, mode='auto')\n",
    "model.fit(X_train, y_train, batch_size=128, epochs=8, validation_split=0.2, callbacks=[early_stopping])\n",
    "print(\"finished\")"
   ]
  },
  {
   "cell_type": "code",
   "execution_count": 6,
   "metadata": {},
   "outputs": [
    {
     "name": "stdout",
     "output_type": "stream",
     "text": [
      "start\n",
      "Train on 20000 samples, validate on 5000 samples\n",
      "Epoch 1/50\n",
      "20000/20000 [==============================] - 144s 7ms/step - loss: 0.0596 - acc: 0.9797 - val_loss: 0.0348 - val_acc: 0.9924\n",
      "Epoch 2/50\n",
      "20000/20000 [==============================] - 137s 7ms/step - loss: 0.0546 - acc: 0.9805 - val_loss: 0.0324 - val_acc: 0.9918\n",
      "Epoch 3/50\n",
      "20000/20000 [==============================] - 137s 7ms/step - loss: 0.0509 - acc: 0.9834 - val_loss: 0.0306 - val_acc: 0.9916\n",
      "Epoch 4/50\n",
      "20000/20000 [==============================] - 137s 7ms/step - loss: 0.0508 - acc: 0.9819 - val_loss: 0.0297 - val_acc: 0.9918\n",
      "Epoch 5/50\n",
      "20000/20000 [==============================] - 137s 7ms/step - loss: 0.0497 - acc: 0.9827 - val_loss: 0.0291 - val_acc: 0.9922\n",
      "Epoch 6/50\n",
      "20000/20000 [==============================] - 137s 7ms/step - loss: 0.0491 - acc: 0.9832 - val_loss: 0.0282 - val_acc: 0.9920\n",
      "Epoch 7/50\n",
      "20000/20000 [==============================] - 137s 7ms/step - loss: 0.0483 - acc: 0.9826 - val_loss: 0.0278 - val_acc: 0.9922\n",
      "Epoch 8/50\n",
      "20000/20000 [==============================] - 137s 7ms/step - loss: 0.0465 - acc: 0.9847 - val_loss: 0.0273 - val_acc: 0.9922\n",
      "Epoch 9/50\n",
      "20000/20000 [==============================] - 137s 7ms/step - loss: 0.0428 - acc: 0.9847 - val_loss: 0.0269 - val_acc: 0.9922\n",
      "Epoch 10/50\n",
      "20000/20000 [==============================] - 137s 7ms/step - loss: 0.0435 - acc: 0.9843 - val_loss: 0.0265 - val_acc: 0.9920\n",
      "Epoch 11/50\n",
      "20000/20000 [==============================] - 137s 7ms/step - loss: 0.0410 - acc: 0.9855 - val_loss: 0.0262 - val_acc: 0.9922\n",
      "Epoch 12/50\n",
      "20000/20000 [==============================] - 137s 7ms/step - loss: 0.0426 - acc: 0.9842 - val_loss: 0.0260 - val_acc: 0.9922\n",
      "Epoch 13/50\n",
      "20000/20000 [==============================] - 137s 7ms/step - loss: 0.0403 - acc: 0.9849 - val_loss: 0.0257 - val_acc: 0.9922\n",
      "Epoch 14/50\n",
      "20000/20000 [==============================] - 137s 7ms/step - loss: 0.0401 - acc: 0.9852 - val_loss: 0.0256 - val_acc: 0.9922\n",
      "Epoch 15/50\n",
      "20000/20000 [==============================] - 137s 7ms/step - loss: 0.0379 - acc: 0.9855 - val_loss: 0.0254 - val_acc: 0.9926\n",
      "Epoch 16/50\n",
      "20000/20000 [==============================] - 137s 7ms/step - loss: 0.0398 - acc: 0.9849 - val_loss: 0.0251 - val_acc: 0.9922\n",
      "Epoch 17/50\n",
      "20000/20000 [==============================] - 137s 7ms/step - loss: 0.0372 - acc: 0.9863 - val_loss: 0.0250 - val_acc: 0.9924\n",
      "Epoch 18/50\n",
      "20000/20000 [==============================] - 137s 7ms/step - loss: 0.0357 - acc: 0.9870 - val_loss: 0.0248 - val_acc: 0.9924\n",
      "Epoch 19/50\n",
      "20000/20000 [==============================] - 137s 7ms/step - loss: 0.0358 - acc: 0.9879 - val_loss: 0.0247 - val_acc: 0.9928\n",
      "Epoch 20/50\n",
      "20000/20000 [==============================] - 137s 7ms/step - loss: 0.0333 - acc: 0.9876 - val_loss: 0.0243 - val_acc: 0.9928\n",
      "Epoch 22/50\n",
      "20000/20000 [==============================] - 137s 7ms/step - loss: 0.0350 - acc: 0.9870 - val_loss: 0.0243 - val_acc: 0.9928\n",
      "Epoch 23/50\n",
      "20000/20000 [==============================] - 137s 7ms/step - loss: 0.0349 - acc: 0.9872 - val_loss: 0.0242 - val_acc: 0.9928\n",
      "Epoch 24/50\n",
      "20000/20000 [==============================] - 137s 7ms/step - loss: 0.0325 - acc: 0.9882 - val_loss: 0.0240 - val_acc: 0.9928\n",
      "Epoch 25/50\n",
      "20000/20000 [==============================] - 137s 7ms/step - loss: 0.0332 - acc: 0.9876 - val_loss: 0.0239 - val_acc: 0.9930\n",
      "Epoch 26/50\n",
      "20000/20000 [==============================] - 137s 7ms/step - loss: 0.0309 - acc: 0.9879 - val_loss: 0.0238 - val_acc: 0.9930\n",
      "Epoch 27/50\n",
      "20000/20000 [==============================] - 137s 7ms/step - loss: 0.0309 - acc: 0.9882 - val_loss: 0.0238 - val_acc: 0.9930\n",
      "Epoch 28/50\n",
      "20000/20000 [==============================] - 137s 7ms/step - loss: 0.0295 - acc: 0.9884 - val_loss: 0.0237 - val_acc: 0.9930\n",
      "Epoch 29/50\n",
      "20000/20000 [==============================] - 137s 7ms/step - loss: 0.0311 - acc: 0.9878 - val_loss: 0.0236 - val_acc: 0.9930\n",
      "Epoch 30/50\n",
      "20000/20000 [==============================] - 137s 7ms/step - loss: 0.0308 - acc: 0.9882 - val_loss: 0.0236 - val_acc: 0.9930\n",
      "Epoch 31/50\n",
      "20000/20000 [==============================] - 137s 7ms/step - loss: 0.0294 - acc: 0.9893 - val_loss: 0.0235 - val_acc: 0.9930\n",
      "Epoch 32/50\n",
      "20000/20000 [==============================] - 137s 7ms/step - loss: 0.0292 - acc: 0.9888 - val_loss: 0.0235 - val_acc: 0.9930\n",
      "Epoch 33/50\n",
      "20000/20000 [==============================] - 137s 7ms/step - loss: 0.0266 - acc: 0.9899 - val_loss: 0.0235 - val_acc: 0.9930\n",
      "Epoch 34/50\n",
      "20000/20000 [==============================] - 137s 7ms/step - loss: 0.0273 - acc: 0.9890 - val_loss: 0.0234 - val_acc: 0.9930\n",
      "Epoch 35/50\n",
      "20000/20000 [==============================] - 137s 7ms/step - loss: 0.0280 - acc: 0.9896 - val_loss: 0.0233 - val_acc: 0.9930\n",
      "Epoch 36/50\n",
      "20000/20000 [==============================] - 137s 7ms/step - loss: 0.0281 - acc: 0.9889 - val_loss: 0.0233 - val_acc: 0.9930\n",
      "Epoch 37/50\n",
      "20000/20000 [==============================] - 137s 7ms/step - loss: 0.0274 - acc: 0.9902 - val_loss: 0.0233 - val_acc: 0.9930\n",
      "Epoch 38/50\n",
      "20000/20000 [==============================] - 137s 7ms/step - loss: 0.0255 - acc: 0.9911 - val_loss: 0.0232 - val_acc: 0.9930\n",
      "Epoch 39/50\n",
      "20000/20000 [==============================] - 137s 7ms/step - loss: 0.0270 - acc: 0.9896 - val_loss: 0.0232 - val_acc: 0.9930\n",
      "Epoch 40/50\n",
      "20000/20000 [==============================] - 137s 7ms/step - loss: 0.0238 - acc: 0.9911 - val_loss: 0.0232 - val_acc: 0.9932\n",
      "Epoch 41/50\n",
      "20000/20000 [==============================] - 137s 7ms/step - loss: 0.0233 - acc: 0.9916 - val_loss: 0.0231 - val_acc: 0.9932\n",
      "Epoch 42/50\n",
      "20000/20000 [==============================] - 137s 7ms/step - loss: 0.0247 - acc: 0.9904 - val_loss: 0.0231 - val_acc: 0.9930\n",
      "Epoch 43/50\n",
      "20000/20000 [==============================] - 137s 7ms/step - loss: 0.0262 - acc: 0.9896 - val_loss: 0.0230 - val_acc: 0.9930\n",
      "Epoch 44/50\n",
      "20000/20000 [==============================] - 137s 7ms/step - loss: 0.0255 - acc: 0.9909 - val_loss: 0.0230 - val_acc: 0.9930\n",
      "Epoch 45/50\n",
      "20000/20000 [==============================] - 137s 7ms/step - loss: 0.0240 - acc: 0.9909 - val_loss: 0.0230 - val_acc: 0.9930\n",
      "Epoch 46/50\n",
      "20000/20000 [==============================] - 137s 7ms/step - loss: 0.0232 - acc: 0.9916 - val_loss: 0.0229 - val_acc: 0.9928\n",
      "Epoch 47/50\n",
      "20000/20000 [==============================] - 137s 7ms/step - loss: 0.0239 - acc: 0.9909 - val_loss: 0.0229 - val_acc: 0.9930\n",
      "Epoch 48/50\n",
      "20000/20000 [==============================] - 137s 7ms/step - loss: 0.0234 - acc: 0.9913 - val_loss: 0.0229 - val_acc: 0.9934\n",
      "Epoch 49/50\n",
      "20000/20000 [==============================] - 137s 7ms/step - loss: 0.0229 - acc: 0.9919 - val_loss: 0.0229 - val_acc: 0.9932\n",
      "Epoch 50/50\n",
      "20000/20000 [==============================] - 137s 7ms/step - loss: 0.0221 - acc: 0.9919 - val_loss: 0.0228 - val_acc: 0.9934\n",
      "finished\n"
     ]
    }
   ],
   "source": [
    "print(\"start\")\n",
    "#放开若干层权重，再次训练\n",
    "model = helper.get_fine_tuning_second_model(model, layer_num)\n",
    "early_stopping = EarlyStopping(monitor='val_loss', min_delta=0, patience=5, verbose=0, mode='auto')\n",
    "model.fit(X_train, y_train, batch_size=128, epochs=50, validation_split=0.2, callbacks=[early_stopping])\n",
    "print(\"finished\")"
   ]
  },
  {
   "cell_type": "code",
   "execution_count": 7,
   "metadata": {},
   "outputs": [
    {
     "name": "stdout",
     "output_type": "stream",
     "text": [
      "finished\n"
     ]
    }
   ],
   "source": [
    "#保存模型参数\n",
    "model.save_weights(model_weights_file)\n",
    "del X_train\n",
    "del y_train\n",
    "print(\"finished\")"
   ]
  },
  {
   "cell_type": "code",
   "execution_count": 8,
   "metadata": {},
   "outputs": [
    {
     "name": "stdout",
     "output_type": "stream",
     "text": [
      "start\n",
      "finished\n",
      "12500/12500 [==============================] - 71s 6ms/step\n",
      "finished\n"
     ]
    }
   ],
   "source": [
    "print(\"start\")\n",
    "#获取测试数据和对应文件\n",
    "X_test, test_files = helper.get_input_from_folder_with_image_files(test_path, img_size, lambda_func=preprocess_func)\n",
    "\n",
    "#获取文件basename\n",
    "image_file_names = [os.path.basename(path) for path in test_files]\n",
    "\n",
    "#预测并保存预测结果到csv\n",
    "helper.predict_and_update_to_csv(model, X_test, image_file_names, template_csv_path, target_csv_path)\n",
    "\n",
    "print(\"finished\")"
   ]
  }
 ],
 "metadata": {
  "kernelspec": {
   "display_name": "Python [conda env:tflearn]",
   "language": "python",
   "name": "conda-env-tflearn-py"
  },
  "language_info": {
   "codemirror_mode": {
    "name": "ipython",
    "version": 3
   },
   "file_extension": ".py",
   "mimetype": "text/x-python",
   "name": "python",
   "nbconvert_exporter": "python",
   "pygments_lexer": "ipython3",
   "version": "3.5.4"
  }
 },
 "nbformat": 4,
 "nbformat_minor": 2
}
