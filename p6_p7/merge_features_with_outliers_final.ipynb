{
 "cells": [
  {
   "cell_type": "code",
   "execution_count": 2,
   "metadata": {},
   "outputs": [
    {
     "name": "stderr",
     "output_type": "stream",
     "text": [
      "Using TensorFlow backend.\n"
     ]
    }
   ],
   "source": [
    "import helper\n",
    "import matplotlib.pyplot as plt\n",
    "from keras.applications import *\n",
    "from keras.preprocessing.image import *"
   ]
  },
  {
   "cell_type": "code",
   "execution_count": 2,
   "metadata": {},
   "outputs": [],
   "source": [
    "img_size_1 = (299,299)\n",
    "img_size_2 = (224,224)\n",
    "train_path = './data/train1'\n",
    "test_path = './data/test1'\n",
    "save_path_resnet = './merged_features/merged_featurs_resnet50.h5'\n",
    "save_path_inceptionv3 = './merged_features/merged_featurs_inceptionv3.h5'\n",
    "save_path_xception = './merged_features/merged_featurs_xception.h5'\n",
    "save_path_inceptionresnetv2 = './merged_features/merged_featurs_inceptionresnetv2.h5'\n",
    "save_path_vgg16 = './merged_features/merged_featurs_vgg16.h5'\n",
    "feature_files = [save_path_inceptionv3,save_path_xception,save_path_inceptionresnetv2]\n",
    "weights_save_path = './models/merged_features_model_weights_0402.h5'\n",
    "template_csv_path = './predicts/sample_submission.csv'\n",
    "target_csv_path = './predicts/pred_merged_features_model_with_outliers_0402.csv'\n",
    "model_image = 'models/merge_features_model_0402.png'\n"
   ]
  },
  {
   "cell_type": "code",
   "execution_count": 3,
   "metadata": {},
   "outputs": [
    {
     "name": "stdout",
     "output_type": "stream",
     "text": [
      "start\n",
      "finished\n"
     ]
    }
   ],
   "source": [
    "#生成单个模型的特征向量并保存到文件夹\n",
    "print(\"start\")\n",
    "#helper.write_gap(resnet50.ResNet50,img_size_2, train_path, test_path, save_path_resnet, lambda_func=resnet50.preprocess_input)\n",
    "helper.write_gap(inception_v3.InceptionV3,img_size_1, train_path, test_path, save_path_inceptionv3, lambda_func=inception_v3.preprocess_input)\n",
    "helper.write_gap(xception.Xception,img_size_1, train_path, test_path, save_path_xception, lambda_func=xception.preprocess_input)\n",
    "helper.write_gap(inception_resnet_v2.InceptionResNetV2,img_size_1, train_path, test_path, save_path_inceptionresnetv2, lambda_func=inception_resnet_v2.preprocess_input)\n",
    "#helper.write_gap(vgg16.VGG16, img_size_1, train_path, test_path, save_path_vgg16, lambda_func=vgg16.preprocess_input)\n",
    "print(\"finished\")"
   ]
  },
  {
   "cell_type": "code",
   "execution_count": 4,
   "metadata": {},
   "outputs": [
    {
     "name": "stdout",
     "output_type": "stream",
     "text": [
      "start\n",
      "finished\n",
      "finished\n"
     ]
    }
   ],
   "source": [
    "#读取各个模型的特征向量并融合并混洗，作为模型的输入\n",
    "print(\"start\")\n",
    "X_train, y_train, X_test= helper.load_and_merge_features(feature_files)\n",
    "print(\"finished\")"
   ]
  },
  {
   "cell_type": "code",
   "execution_count": 5,
   "metadata": {},
   "outputs": [
    {
     "name": "stdout",
     "output_type": "stream",
     "text": [
      "finished\n",
      "finished\n"
     ]
    }
   ],
   "source": [
    "#构造模型\n",
    "model=helper.get_model_for_merge_features(X_train)\n",
    "print(\"finished\")\n",
    "\n",
    "#可视化模型\n",
    "helper.visualize_model(model, model_image)\n",
    "print(\"finished\")"
   ]
  },
  {
   "cell_type": "code",
   "execution_count": 6,
   "metadata": {},
   "outputs": [
    {
     "name": "stdout",
     "output_type": "stream",
     "text": [
      "Train on 20000 samples, validate on 5000 samples\n",
      "Epoch 1/10\n",
      "20000/20000 [==============================] - 2s 80us/step - loss: 0.0699 - acc: 0.9818 - val_loss: 0.0180 - val_acc: 0.9950\n",
      "Epoch 2/10\n",
      "20000/20000 [==============================] - 1s 36us/step - loss: 0.0199 - acc: 0.9948 - val_loss: 0.0130 - val_acc: 0.9950\n",
      "Epoch 3/10\n",
      "20000/20000 [==============================] - 1s 36us/step - loss: 0.0160 - acc: 0.9953 - val_loss: 0.0146 - val_acc: 0.9950\n",
      "Epoch 4/10\n",
      "20000/20000 [==============================] - 1s 36us/step - loss: 0.0147 - acc: 0.9957 - val_loss: 0.0103 - val_acc: 0.9974\n",
      "Epoch 5/10\n",
      "20000/20000 [==============================] - 1s 36us/step - loss: 0.0138 - acc: 0.9958 - val_loss: 0.0090 - val_acc: 0.9966\n",
      "Epoch 6/10\n",
      "20000/20000 [==============================] - 1s 36us/step - loss: 0.0127 - acc: 0.9960 - val_loss: 0.0087 - val_acc: 0.9964\n",
      "Epoch 7/10\n",
      "20000/20000 [==============================] - 1s 36us/step - loss: 0.0125 - acc: 0.9958 - val_loss: 0.0093 - val_acc: 0.9964\n",
      "Epoch 8/10\n",
      "20000/20000 [==============================] - 1s 36us/step - loss: 0.0120 - acc: 0.9963 - val_loss: 0.0087 - val_acc: 0.9970\n",
      "Epoch 9/10\n",
      "20000/20000 [==============================] - 1s 36us/step - loss: 0.0115 - acc: 0.9963 - val_loss: 0.0082 - val_acc: 0.9966\n",
      "Epoch 10/10\n",
      "20000/20000 [==============================] - 1s 36us/step - loss: 0.0104 - acc: 0.9966 - val_loss: 0.0084 - val_acc: 0.9964\n",
      "finished\n"
     ]
    }
   ],
   "source": [
    "model.fit(X_train, y_train, batch_size=128, epochs=10, validation_split=0.2)\n",
    "print(\"finished\")"
   ]
  },
  {
   "cell_type": "code",
   "execution_count": 7,
   "metadata": {},
   "outputs": [
    {
     "name": "stdout",
     "output_type": "stream",
     "text": [
      "finished\n"
     ]
    }
   ],
   "source": [
    "model.save_weights(weights_save_path)\n",
    "del X_train\n",
    "del y_train\n",
    "print(\"finished\")"
   ]
  },
  {
   "cell_type": "code",
   "execution_count": 8,
   "metadata": {},
   "outputs": [
    {
     "name": "stdout",
     "output_type": "stream",
     "text": [
      "start\n",
      "Found 12500 images belonging to 1 classes.\n",
      "12500/12500 [==============================] - 0s 36us/step\n",
      "finished\n"
     ]
    }
   ],
   "source": [
    "print(\"start\")\n",
    "#获取文件basename\n",
    "gen = ImageDataGenerator()\n",
    "test_generator = gen.flow_from_directory(test_path, (224, 224), shuffle=False, \n",
    "                                         batch_size=16, class_mode=None)\n",
    "image_file_names = test_generator.filenames\n",
    "\n",
    "#预测并保存预测结果到csv\n",
    "helper.predict_and_update_to_csv(model, X_test, image_file_names, template_csv_path, target_csv_path)\n",
    "\n",
    "print(\"finished\")\n"
   ]
  }
 ],
 "metadata": {
  "kernelspec": {
   "display_name": "Python [conda env:tflearn]",
   "language": "python",
   "name": "conda-env-tflearn-py"
  },
  "language_info": {
   "codemirror_mode": {
    "name": "ipython",
    "version": 3
   },
   "file_extension": ".py",
   "mimetype": "text/x-python",
   "name": "python",
   "nbconvert_exporter": "python",
   "pygments_lexer": "ipython3",
   "version": "3.5.4"
  }
 },
 "nbformat": 4,
 "nbformat_minor": 2
}
