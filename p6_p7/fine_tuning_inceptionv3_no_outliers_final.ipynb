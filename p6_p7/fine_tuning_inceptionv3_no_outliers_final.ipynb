{
 "cells": [
  {
   "cell_type": "code",
   "execution_count": 1,
   "metadata": {},
   "outputs": [
    {
     "name": "stderr",
     "output_type": "stream",
     "text": [
      "/home/ubuntu/anaconda3/envs/tensorflow_p36/lib/python3.6/site-packages/h5py/__init__.py:36: FutureWarning: Conversion of the second argument of issubdtype from `float` to `np.floating` is deprecated. In future, it will be treated as `np.float64 == np.dtype(float).type`.\n",
      "  from ._conv import register_converters as _register_converters\n",
      "Using TensorFlow backend.\n",
      "/home/ubuntu/anaconda3/envs/tensorflow_p36/lib/python3.6/site-packages/matplotlib/__init__.py:1067: UserWarning: Duplicate key in file \"/home/ubuntu/.config/matplotlib/matplotlibrc\", line #2\n",
      "  (fname, cnt))\n",
      "/home/ubuntu/anaconda3/envs/tensorflow_p36/lib/python3.6/site-packages/matplotlib/__init__.py:1067: UserWarning: Duplicate key in file \"/home/ubuntu/.config/matplotlib/matplotlibrc\", line #3\n",
      "  (fname, cnt))\n"
     ]
    }
   ],
   "source": [
    "import helper\n",
    "import matplotlib.pyplot as plt\n",
    "from keras.applications import *\n",
    "from keras.callbacks import EarlyStopping\n",
    "import os"
   ]
  },
  {
   "cell_type": "code",
   "execution_count": 2,
   "metadata": {},
   "outputs": [],
   "source": [
    "#设置各种参数\n",
    "train_path = ['./data/train2/cat', './data/train2/dog']\n",
    "test_path ='./data/test1/test1'\n",
    "img_size =(299,299)\n",
    "layer_num = 249\n",
    "model_image ='./models/model_image_fine_tuning_inceptionv3_0403.png'\n",
    "model_weights_file = './models/weights_fine_tuning_inceptionv3_no_outliers_0403.h5'\n",
    "template_csv_path = './predicts/sample_submission.csv'\n",
    "target_csv_path = './predicts/pred_fine_tuning_inceptionv3_no_outliers_0403.csv'\n",
    "MODEL = inception_v3.InceptionV3\n",
    "preprocess_func = inception_v3.preprocess_input"
   ]
  },
  {
   "cell_type": "code",
   "execution_count": 3,
   "metadata": {},
   "outputs": [
    {
     "name": "stdout",
     "output_type": "stream",
     "text": [
      "(24959, 299, 299, 3)\n",
      "(24959, 1)\n",
      "finished\n",
      "finished\n"
     ]
    }
   ],
   "source": [
    "#获取训练集数据\n",
    "X_train, y_train, image_files= helper.get_train_input_from_folder_with_subclasses(train_path, img_size, lambda_func=preprocess_func)\n",
    "print(\"finished\")"
   ]
  },
  {
   "cell_type": "code",
   "execution_count": 4,
   "metadata": {},
   "outputs": [
    {
     "name": "stdout",
     "output_type": "stream",
     "text": [
      "start\n",
      "(?, ?, ?, 3)\n",
      "(?, ?, ?, 2048)\n",
      "finished\n"
     ]
    }
   ],
   "source": [
    "#构造模型，锁定base_model所有层\n",
    "model = helper.get_fine_tuning_first_model(MODEL)\n",
    "\n",
    "#可视化模型\n",
    "helper.visualize_model(model, model_image)\n",
    "print(\"finished\")"
   ]
  },
  {
   "cell_type": "code",
   "execution_count": 5,
   "metadata": {},
   "outputs": [
    {
     "name": "stdout",
     "output_type": "stream",
     "text": [
      "start\n",
      "Train on 19967 samples, validate on 4992 samples\n",
      "Epoch 1/8\n",
      "19967/19967 [==============================] - 75s 4ms/step - loss: 0.2245 - acc: 0.9256 - val_loss: 0.0787 - val_acc: 0.9792\n",
      "Epoch 2/8\n",
      "19967/19967 [==============================] - 68s 3ms/step - loss: 0.1011 - acc: 0.9657 - val_loss: 0.0800 - val_acc: 0.9722\n",
      "Epoch 3/8\n",
      "19967/19967 [==============================] - 68s 3ms/step - loss: 0.0855 - acc: 0.9692 - val_loss: 0.0738 - val_acc: 0.9742\n",
      "Epoch 4/8\n",
      "19967/19967 [==============================] - 68s 3ms/step - loss: 0.0790 - acc: 0.9716 - val_loss: 0.0642 - val_acc: 0.9786\n",
      "Epoch 5/8\n",
      "19967/19967 [==============================] - 68s 3ms/step - loss: 0.0793 - acc: 0.9708 - val_loss: 0.0840 - val_acc: 0.9702\n",
      "Epoch 6/8\n",
      "19967/19967 [==============================] - 68s 3ms/step - loss: 0.0738 - acc: 0.9725 - val_loss: 0.0773 - val_acc: 0.9728\n",
      "Epoch 7/8\n",
      "19967/19967 [==============================] - 68s 3ms/step - loss: 0.0720 - acc: 0.9728 - val_loss: 0.0823 - val_acc: 0.9722\n",
      "finished\n"
     ]
    }
   ],
   "source": [
    "print(\"start\")\n",
    "#第一次训练新添加层权重\n",
    "early_stopping = EarlyStopping(monitor='val_loss', min_delta=0, patience=3, verbose=0, mode='auto')\n",
    "model.fit(X_train, y_train, batch_size=128, epochs=8, validation_split=0.2, callbacks=[early_stopping])\n",
    "print(\"finished\")"
   ]
  },
  {
   "cell_type": "code",
   "execution_count": 6,
   "metadata": {},
   "outputs": [
    {
     "name": "stdout",
     "output_type": "stream",
     "text": [
      "start\n",
      "Train on 19967 samples, validate on 4992 samples\n",
      "Epoch 1/60\n",
      "19967/19967 [==============================] - 76s 4ms/step - loss: 0.0682 - acc: 0.9749 - val_loss: 0.0342 - val_acc: 0.9906\n",
      "Epoch 2/60\n",
      "19967/19967 [==============================] - 73s 4ms/step - loss: 0.0585 - acc: 0.9784 - val_loss: 0.0323 - val_acc: 0.9908\n",
      "Epoch 3/60\n",
      "19967/19967 [==============================] - 73s 4ms/step - loss: 0.0540 - acc: 0.9803 - val_loss: 0.0311 - val_acc: 0.9908\n",
      "Epoch 4/60\n",
      "19967/19967 [==============================] - 73s 4ms/step - loss: 0.0462 - acc: 0.9832 - val_loss: 0.0282 - val_acc: 0.9920\n",
      "Epoch 7/60\n",
      "19967/19967 [==============================] - 73s 4ms/step - loss: 0.0435 - acc: 0.9853 - val_loss: 0.0274 - val_acc: 0.9920\n",
      "Epoch 8/60\n",
      "19967/19967 [==============================] - 73s 4ms/step - loss: 0.0438 - acc: 0.9837 - val_loss: 0.0271 - val_acc: 0.9920\n",
      "Epoch 9/60\n",
      "19967/19967 [==============================] - 73s 4ms/step - loss: 0.0423 - acc: 0.9843 - val_loss: 0.0268 - val_acc: 0.9920\n",
      "Epoch 10/60\n",
      "19967/19967 [==============================] - 73s 4ms/step - loss: 0.0392 - acc: 0.9858 - val_loss: 0.0265 - val_acc: 0.9920\n",
      "Epoch 11/60\n",
      "19967/19967 [==============================] - 73s 4ms/step - loss: 0.0369 - acc: 0.9867 - val_loss: 0.0263 - val_acc: 0.9920\n",
      "Epoch 12/60\n",
      "19967/19967 [==============================] - 73s 4ms/step - loss: 0.0365 - acc: 0.9861 - val_loss: 0.0261 - val_acc: 0.9922\n",
      "Epoch 13/60\n",
      "19967/19967 [==============================] - 73s 4ms/step - loss: 0.0365 - acc: 0.9866 - val_loss: 0.0258 - val_acc: 0.9924\n",
      "Epoch 14/60\n",
      "19967/19967 [==============================] - 73s 4ms/step - loss: 0.0328 - acc: 0.9876 - val_loss: 0.0256 - val_acc: 0.9922\n",
      "Epoch 15/60\n",
      "19967/19967 [==============================] - 73s 4ms/step - loss: 0.0310 - acc: 0.9876 - val_loss: 0.0254 - val_acc: 0.9924\n",
      "Epoch 16/60\n",
      "19967/19967 [==============================] - 73s 4ms/step - loss: 0.0309 - acc: 0.9882 - val_loss: 0.0255 - val_acc: 0.9922\n",
      "Epoch 17/60\n",
      "19967/19967 [==============================] - 73s 4ms/step - loss: 0.0307 - acc: 0.9890 - val_loss: 0.0252 - val_acc: 0.9926\n",
      "Epoch 18/60\n",
      "19967/19967 [==============================] - 73s 4ms/step - loss: 0.0281 - acc: 0.9900 - val_loss: 0.0249 - val_acc: 0.9926\n",
      "Epoch 19/60\n",
      "19967/19967 [==============================] - 73s 4ms/step - loss: 0.0287 - acc: 0.9896 - val_loss: 0.0251 - val_acc: 0.9924\n",
      "Epoch 20/60\n",
      "19967/19967 [==============================] - 73s 4ms/step - loss: 0.0274 - acc: 0.9903 - val_loss: 0.0251 - val_acc: 0.9924\n",
      "Epoch 21/60\n",
      "19967/19967 [==============================] - 73s 4ms/step - loss: 0.0267 - acc: 0.9900 - val_loss: 0.0251 - val_acc: 0.9924\n",
      "Epoch 22/60\n",
      "19967/19967 [==============================] - 73s 4ms/step - loss: 0.0261 - acc: 0.9905 - val_loss: 0.0251 - val_acc: 0.9924\n",
      "Epoch 23/60\n",
      "19967/19967 [==============================] - 73s 4ms/step - loss: 0.0262 - acc: 0.9907 - val_loss: 0.0245 - val_acc: 0.9924\n",
      "Epoch 24/60\n",
      "19967/19967 [==============================] - 73s 4ms/step - loss: 0.0249 - acc: 0.9910 - val_loss: 0.0243 - val_acc: 0.9926\n",
      "Epoch 25/60\n",
      "19967/19967 [==============================] - 73s 4ms/step - loss: 0.0253 - acc: 0.9905 - val_loss: 0.0247 - val_acc: 0.9924\n",
      "Epoch 26/60\n",
      "19967/19967 [==============================] - 73s 4ms/step - loss: 0.0248 - acc: 0.9910 - val_loss: 0.0248 - val_acc: 0.9924\n",
      "Epoch 27/60\n",
      "19967/19967 [==============================] - 73s 4ms/step - loss: 0.0244 - acc: 0.9915 - val_loss: 0.0248 - val_acc: 0.9926\n",
      "Epoch 28/60\n",
      "19967/19967 [==============================] - 73s 4ms/step - loss: 0.0220 - acc: 0.9917 - val_loss: 0.0249 - val_acc: 0.9926\n",
      "Epoch 29/60\n",
      "19967/19967 [==============================] - 73s 4ms/step - loss: 0.0210 - acc: 0.9927 - val_loss: 0.0247 - val_acc: 0.9926\n",
      "finished\n"
     ]
    }
   ],
   "source": [
    "print(\"start\")\n",
    "#放开若干层权重，再次训练\n",
    "model = helper.get_fine_tuning_second_model(model, layer_num)\n",
    "early_stopping = EarlyStopping(monitor='val_loss', min_delta=0, patience=5, verbose=0, mode='auto')\n",
    "model.fit(X_train, y_train, batch_size=128, epochs=60, validation_split=0.2, callbacks=[early_stopping])\n",
    "print(\"finished\")"
   ]
  },
  {
   "cell_type": "code",
   "execution_count": 7,
   "metadata": {},
   "outputs": [
    {
     "name": "stdout",
     "output_type": "stream",
     "text": [
      "finished\n"
     ]
    }
   ],
   "source": [
    "#保存模型参数\n",
    "model.save_weights(model_weights_file)\n",
    "del X_train\n",
    "del y_train\n",
    "print(\"finished\")"
   ]
  },
  {
   "cell_type": "code",
   "execution_count": 8,
   "metadata": {},
   "outputs": [
    {
     "name": "stdout",
     "output_type": "stream",
     "text": [
      "start\n",
      "finished\n",
      "12500/12500 [==============================] - 41s 3ms/step\n",
      "finished\n",
      "finished\n"
     ]
    }
   ],
   "source": [
    "print(\"start\")\n",
    "#获取测试数据和对应文件\n",
    "X_test, test_files = helper.get_input_from_folder_with_image_files(test_path, img_size, lambda_func=preprocess_func)\n",
    "\n",
    "#获取文件basename\n",
    "image_file_names = [os.path.basename(path) for path in test_files]\n",
    "\n",
    "#预测并保存预测结果到csv\n",
    "helper.predict_and_update_to_csv(model, X_test, image_file_names, template_csv_path, target_csv_path)\n",
    "\n",
    "print(\"finished\")"
   ]
  }
 ],
 "metadata": {
  "kernelspec": {
   "display_name": "Environment (conda_tensorflow_p36)",
   "language": "python",
   "name": "conda_tensorflow_p36"
  },
  "language_info": {
   "codemirror_mode": {
    "name": "ipython",
    "version": 3
   },
   "file_extension": ".py",
   "mimetype": "text/x-python",
   "name": "python",
   "nbconvert_exporter": "python",
   "pygments_lexer": "ipython3",
   "version": "3.6.4"
  }
 },
 "nbformat": 4,
 "nbformat_minor": 2
}
